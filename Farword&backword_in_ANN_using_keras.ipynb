{
  "nbformat": 4,
  "nbformat_minor": 0,
  "metadata": {
    "colab": {
      "provenance": [],
      "authorship_tag": "ABX9TyMWkNDRNtz7CGRzO+YGQNjQ",
      "include_colab_link": true
    },
    "kernelspec": {
      "name": "python3",
      "display_name": "Python 3"
    },
    "language_info": {
      "name": "python"
    }
  },
  "cells": [
    {
      "cell_type": "markdown",
      "metadata": {
        "id": "view-in-github",
        "colab_type": "text"
      },
      "source": [
        "<a href=\"https://colab.research.google.com/github/nhyadav/ANN/blob/main/Farword%26backword_in_ANN_using_keras.ipynb\" target=\"_parent\"><img src=\"https://colab.research.google.com/assets/colab-badge.svg\" alt=\"Open In Colab\"/></a>"
      ]
    },
    {
      "cell_type": "code",
      "execution_count": 22,
      "metadata": {
        "id": "1lLnxWVmoL-1"
      },
      "outputs": [],
      "source": [
        "# !pip install tensorflow\n"
      ]
    },
    {
      "cell_type": "code",
      "source": [
        "import tensorflow as tf\n",
        "from tensorflow.keras import Sequential\n"
      ],
      "metadata": {
        "id": "-m_vqdIlqJJW"
      },
      "execution_count": 23,
      "outputs": []
    },
    {
      "cell_type": "code",
      "source": [
        "dataset = [[2.7810836,2.550537003,0],\n",
        "\t[1.465489372,2.362125076,0],\n",
        "\t[3.396561688,4.400293529,0],\n",
        "\t[1.38807019,1.850220317,0],\n",
        "\t[3.06407232,3.005305973,0],\n",
        "\t[7.627531214,2.759262235,1],\n",
        "\t[5.332441248,2.088626775,1],\n",
        "\t[6.922596716,1.77106367,1],\n",
        "\t[8.675418651,-0.242068655,1],\n",
        "\t[7.673756466,3.508563011,1]]"
      ],
      "metadata": {
        "id": "6K9z5alTs9-d"
      },
      "execution_count": 24,
      "outputs": []
    },
    {
      "cell_type": "code",
      "source": [
        "n_inputs = len(dataset[0]) - 1\n",
        "n_input = [d[:2] for d in dataset]\n",
        "n_outputs = len(set([row[-1] for row in dataset]))\n",
        "n_output = [ d[-1] for d in dataset]"
      ],
      "metadata": {
        "id": "t4xIQ8hCs_Vx"
      },
      "execution_count": 25,
      "outputs": []
    },
    {
      "cell_type": "code",
      "source": [
        "n_input"
      ],
      "metadata": {
        "colab": {
          "base_uri": "https://localhost:8080/"
        },
        "id": "Sj2UBAfAwwUq",
        "outputId": "b0819b81-1a99-444d-978d-9e3822acdbbf"
      },
      "execution_count": 26,
      "outputs": [
        {
          "output_type": "execute_result",
          "data": {
            "text/plain": [
              "[[2.7810836, 2.550537003],\n",
              " [1.465489372, 2.362125076],\n",
              " [3.396561688, 4.400293529],\n",
              " [1.38807019, 1.850220317],\n",
              " [3.06407232, 3.005305973],\n",
              " [7.627531214, 2.759262235],\n",
              " [5.332441248, 2.088626775],\n",
              " [6.922596716, 1.77106367],\n",
              " [8.675418651, -0.242068655],\n",
              " [7.673756466, 3.508563011]]"
            ]
          },
          "metadata": {},
          "execution_count": 26
        }
      ]
    },
    {
      "cell_type": "code",
      "source": [
        "n_output"
      ],
      "metadata": {
        "colab": {
          "base_uri": "https://localhost:8080/"
        },
        "id": "mAnVhHvTxVZU",
        "outputId": "40515879-0d83-4929-f74f-a07bea92e433"
      },
      "execution_count": 27,
      "outputs": [
        {
          "output_type": "execute_result",
          "data": {
            "text/plain": [
              "[0, 0, 0, 0, 0, 1, 1, 1, 1, 1]"
            ]
          },
          "metadata": {},
          "execution_count": 27
        }
      ]
    },
    {
      "cell_type": "code",
      "source": [
        "# neural network\n",
        "model = Sequential()\n",
        "model.add(tf.keras.layers.Dense(4, input_shape=(n_inputs,)))\n",
        "model.add(tf.keras.layers.Dense(16, activation='relu'))\n",
        "model.add(tf.keras.layers.Dense(1, activation='sigmoid'))\n",
        "model.compile(optimizer=tf.keras.optimizers.Adam(learning_rate=0.01), loss=tf.keras.losses.BinaryCrossentropy(from_logits=True),\n",
        "              metrics = ['accuracy'])\n",
        "# model.compile(optimizer='adam',loss='BinaryCrossentropy', metrics = ['accuracy'])\n",
        "model.fit(n_input, n_output, epochs=20)\n",
        "\n"
      ],
      "metadata": {
        "colab": {
          "base_uri": "https://localhost:8080/"
        },
        "id": "MUYKm3r0tQP8",
        "outputId": "661f4c7f-666b-4ca5-8f2e-a7adf740afa6"
      },
      "execution_count": 34,
      "outputs": [
        {
          "output_type": "stream",
          "name": "stdout",
          "text": [
            "Epoch 1/20\n"
          ]
        },
        {
          "output_type": "stream",
          "name": "stderr",
          "text": [
            "/usr/local/lib/python3.7/dist-packages/tensorflow/python/util/dispatch.py:1082: UserWarning: \"`binary_crossentropy` received `from_logits=True`, but the `output` argument was produced by a sigmoid or softmax activation and thus does not represent logits. Was this intended?\"\n",
            "  return dispatch_target(*args, **kwargs)\n"
          ]
        },
        {
          "output_type": "stream",
          "name": "stdout",
          "text": [
            "1/1 [==============================] - 1s 677ms/step - loss: 1.0397 - accuracy: 0.5000\n",
            "Epoch 2/20\n",
            "1/1 [==============================] - 0s 11ms/step - loss: 0.8776 - accuracy: 0.3000\n",
            "Epoch 3/20\n",
            "1/1 [==============================] - 0s 10ms/step - loss: 0.7514 - accuracy: 0.3000\n",
            "Epoch 4/20\n",
            "1/1 [==============================] - 0s 13ms/step - loss: 0.6612 - accuracy: 0.5000\n",
            "Epoch 5/20\n",
            "1/1 [==============================] - 0s 15ms/step - loss: 0.5933 - accuracy: 0.5000\n",
            "Epoch 6/20\n",
            "1/1 [==============================] - 0s 12ms/step - loss: 0.5387 - accuracy: 0.5000\n",
            "Epoch 7/20\n",
            "1/1 [==============================] - 0s 17ms/step - loss: 0.4921 - accuracy: 0.5000\n",
            "Epoch 8/20\n",
            "1/1 [==============================] - 0s 17ms/step - loss: 0.4471 - accuracy: 0.6000\n",
            "Epoch 9/20\n",
            "1/1 [==============================] - 0s 15ms/step - loss: 0.4029 - accuracy: 0.8000\n",
            "Epoch 10/20\n",
            "1/1 [==============================] - 0s 18ms/step - loss: 0.3594 - accuracy: 0.9000\n",
            "Epoch 11/20\n",
            "1/1 [==============================] - 0s 10ms/step - loss: 0.3183 - accuracy: 1.0000\n",
            "Epoch 12/20\n",
            "1/1 [==============================] - 0s 12ms/step - loss: 0.2810 - accuracy: 1.0000\n",
            "Epoch 13/20\n",
            "1/1 [==============================] - 0s 13ms/step - loss: 0.2490 - accuracy: 1.0000\n",
            "Epoch 14/20\n",
            "1/1 [==============================] - 0s 13ms/step - loss: 0.2223 - accuracy: 1.0000\n",
            "Epoch 15/20\n",
            "1/1 [==============================] - 0s 11ms/step - loss: 0.2002 - accuracy: 1.0000\n",
            "Epoch 16/20\n",
            "1/1 [==============================] - 0s 11ms/step - loss: 0.1816 - accuracy: 1.0000\n",
            "Epoch 17/20\n",
            "1/1 [==============================] - 0s 12ms/step - loss: 0.1649 - accuracy: 1.0000\n",
            "Epoch 18/20\n",
            "1/1 [==============================] - 0s 12ms/step - loss: 0.1493 - accuracy: 1.0000\n",
            "Epoch 19/20\n",
            "1/1 [==============================] - 0s 11ms/step - loss: 0.1344 - accuracy: 1.0000\n",
            "Epoch 20/20\n",
            "1/1 [==============================] - 0s 13ms/step - loss: 0.1201 - accuracy: 1.0000\n"
          ]
        },
        {
          "output_type": "execute_result",
          "data": {
            "text/plain": [
              "<keras.callbacks.History at 0x7f518fbaa090>"
            ]
          },
          "metadata": {},
          "execution_count": 34
        }
      ]
    },
    {
      "cell_type": "code",
      "source": [
        "## show the weight for each layer\n",
        "weights = model.weights\n",
        "layer_weight = [[{\"weights\":w} for w in tf.keras.backend.get_value(weights[i])] for i in range(0,len(weights),2)]"
      ],
      "metadata": {
        "id": "u5f3iC_D6OPY"
      },
      "execution_count": 29,
      "outputs": []
    },
    {
      "cell_type": "code",
      "source": [
        "# print(tf.keras.backend.get_value(model.weights[1]))"
      ],
      "metadata": {
        "id": "cAl_ztBvv9a7"
      },
      "execution_count": 30,
      "outputs": []
    },
    {
      "cell_type": "code",
      "source": [
        "# print(weights)"
      ],
      "metadata": {
        "id": "i9JdQnRR6zmK"
      },
      "execution_count": 31,
      "outputs": []
    },
    {
      "cell_type": "code",
      "source": [
        "for i,l in enumerate(layer_weight):\n",
        "  print(f\"weigth for layer-> {i}\",l)"
      ],
      "metadata": {
        "colab": {
          "base_uri": "https://localhost:8080/"
        },
        "id": "kDKdlCZR6Ksm",
        "outputId": "47e86391-9a1a-4f13-c202-7d80140209cc"
      },
      "execution_count": 33,
      "outputs": [
        {
          "output_type": "stream",
          "name": "stdout",
          "text": [
            "weigth for layer-> 0 [{'weights': array([ 0.79304963, -0.56305236, -0.25888437,  0.5345344 ], dtype=float32)}, {'weights': array([ 0.6957774 , -0.12346187, -0.67747   ,  0.2536035 ], dtype=float32)}]\n",
            "weigth for layer-> 1 [{'weights': array([ 0.18208522, -0.08853239,  0.45064247, -0.15016079, -0.34485057,\n",
            "       -0.4390731 , -0.35094786,  0.10537138, -0.45806295, -0.30444223,\n",
            "       -0.17063522, -0.4566411 ,  0.08264171, -0.06373689, -0.36840057,\n",
            "       -0.23962471], dtype=float32)}, {'weights': array([ 0.17740867,  0.53233564,  0.56279033, -0.34645846,  0.4208594 ,\n",
            "        0.0913322 , -0.31313473,  0.2597519 ,  0.04008138, -0.18916789,\n",
            "        0.2967198 , -0.31547123,  0.12055404,  0.35976458,  0.41637152,\n",
            "       -0.10972318], dtype=float32)}, {'weights': array([-0.2656726 ,  0.2302146 , -0.46085554,  0.09147406, -0.41575933,\n",
            "        0.07294995,  0.37320656, -0.29115278,  0.18842566, -0.45098472,\n",
            "        0.3575852 ,  0.32148552, -0.44189036, -0.08103383, -0.24302313,\n",
            "       -0.01132125], dtype=float32)}, {'weights': array([ 0.3658079 ,  0.45048887,  0.25519732,  0.07732058,  0.29735598,\n",
            "       -0.11005396, -0.5065095 ,  0.13785666,  0.36852908, -0.34588212,\n",
            "        0.40233237, -0.12837273,  0.14497659, -0.06869581, -0.24513823,\n",
            "       -0.37729567], dtype=float32)}]\n",
            "weigth for layer-> 2 [{'weights': array([0.14468412], dtype=float32)}, {'weights': array([0.34785813], dtype=float32)}, {'weights': array([0.3113442], dtype=float32)}, {'weights': array([0.4174964], dtype=float32)}, {'weights': array([0.27770686], dtype=float32)}, {'weights': array([0.13497907], dtype=float32)}, {'weights': array([0.18247652], dtype=float32)}, {'weights': array([0.21598081], dtype=float32)}, {'weights': array([0.3851545], dtype=float32)}, {'weights': array([0.01089454], dtype=float32)}, {'weights': array([-0.58686525], dtype=float32)}, {'weights': array([-0.5665171], dtype=float32)}, {'weights': array([0.16075009], dtype=float32)}, {'weights': array([-0.45920992], dtype=float32)}, {'weights': array([-0.05672878], dtype=float32)}, {'weights': array([-0.38171178], dtype=float32)}]\n"
          ]
        }
      ]
    },
    {
      "cell_type": "code",
      "source": [],
      "metadata": {
        "id": "Q2qAhI9y6PEl"
      },
      "execution_count": 32,
      "outputs": []
    }
  ]
}